{
 "cells": [
  {
   "cell_type": "markdown",
   "metadata": {},
   "source": [
    "# U.S. Medical Insurance Costs"
   ]
  },
  {
   "cell_type": "code",
   "execution_count": 5,
   "metadata": {},
   "outputs": [],
   "source": [
    "import numpy as np\n",
    "import pandas as pd\n",
    "\n"
   ]
  },
  {
   "cell_type": "code",
   "execution_count": 58,
   "metadata": {},
   "outputs": [],
   "source": [
    "class Insurance_Data:\n",
    "    def __init__(self, csvfile):\n",
    "        self.data=pd.read_csv(csvfile)\n",
    "        self.column_names_list=list(self.data.columns)\n",
    "        \n",
    "    def __repr__(self):\n",
    "        return str(self.data.info())\n",
    "\n",
    "    def column_names(self):\n",
    "        return self.column_names_list\n",
    "    \n",
    "    def column_unique_values(self):\n",
    "        for i in self.column_names_list:\n",
    "            if (self.data[i].dtypes=='object'):\n",
    "                print(self.data[i].unique())\n",
    "                print(self.data[i].dtypes)"
   ]
  },
  {
   "cell_type": "code",
   "execution_count": 59,
   "metadata": {},
   "outputs": [
    {
     "name": "stdout",
     "output_type": "stream",
     "text": [
      "<class 'pandas.core.frame.DataFrame'>\n",
      "RangeIndex: 1338 entries, 0 to 1337\n",
      "Data columns (total 7 columns):\n",
      " #   Column    Non-Null Count  Dtype  \n",
      "---  ------    --------------  -----  \n",
      " 0   age       1338 non-null   int64  \n",
      " 1   sex       1338 non-null   object \n",
      " 2   bmi       1338 non-null   float64\n",
      " 3   children  1338 non-null   int64  \n",
      " 4   smoker    1338 non-null   object \n",
      " 5   region    1338 non-null   object \n",
      " 6   charges   1338 non-null   float64\n",
      "dtypes: float64(2), int64(2), object(3)\n",
      "memory usage: 73.3+ KB\n",
      "None\n",
      "['age', 'sex', 'bmi', 'children', 'smoker', 'region', 'charges']\n",
      "['female' 'male']\n",
      "object\n",
      "['yes' 'no']\n",
      "object\n",
      "['southwest' 'southeast' 'northwest' 'northeast']\n",
      "object\n"
     ]
    }
   ],
   "source": [
    "my_data=Insurance_Data('insurance.csv')\n",
    "print(my_data)\n",
    "print(my_data.column_names())\n",
    "my_data.column_unique_values()"
   ]
  }
 ],
 "metadata": {
  "kernelspec": {
   "display_name": "Python 3",
   "language": "python",
   "name": "python3"
  },
  "language_info": {
   "codemirror_mode": {
    "name": "ipython",
    "version": 3
   },
   "file_extension": ".py",
   "mimetype": "text/x-python",
   "name": "python",
   "nbconvert_exporter": "python",
   "pygments_lexer": "ipython3",
   "version": "3.8.5"
  }
 },
 "nbformat": 4,
 "nbformat_minor": 4
}
